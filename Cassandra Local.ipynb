{
 "cells": [
  {
   "cell_type": "code",
   "execution_count": 20,
   "id": "a0235cba",
   "metadata": {},
   "outputs": [],
   "source": [
    "import pandas as pd"
   ]
  },
  {
   "cell_type": "code",
   "execution_count": 1,
   "id": "49a786ff",
   "metadata": {},
   "outputs": [],
   "source": [
    "from cassandra.cluster import Cluster\n",
    "cluster = Cluster()\n",
    "session = cluster.connect()"
   ]
  },
  {
   "cell_type": "code",
   "execution_count": 2,
   "id": "e20cf663",
   "metadata": {},
   "outputs": [
    {
     "name": "stdout",
     "output_type": "stream",
     "text": [
      "keyspace name :  system_auth\n",
      "replication Details :  {'class': 'org.apache.cassandra.locator.SimpleStrategy', 'replication_factor': '1'}\n",
      "keyspace name :  system_schema\n",
      "replication Details :  {'class': 'org.apache.cassandra.locator.LocalStrategy'}\n",
      "keyspace name :  system_distributed\n",
      "replication Details :  {'class': 'org.apache.cassandra.locator.SimpleStrategy', 'replication_factor': '3'}\n",
      "keyspace name :  system\n",
      "replication Details :  {'class': 'org.apache.cassandra.locator.LocalStrategy'}\n",
      "keyspace name :  tp\n",
      "replication Details :  {'class': 'org.apache.cassandra.locator.SimpleStrategy', 'replication_factor': '3'}\n",
      "keyspace name :  system_traces\n",
      "replication Details :  {'class': 'org.apache.cassandra.locator.SimpleStrategy', 'replication_factor': '2'}\n"
     ]
    }
   ],
   "source": [
    "# display all keyspaces\n",
    "rs=session.execute(\"select * from system_schema.keyspaces\")\n",
    "for row in rs.all():\n",
    "    print(\"keyspace name : \", row[0])\n",
    "    print(\"replication Details : \",row[2])"
   ]
  },
  {
   "cell_type": "code",
   "execution_count": 3,
   "id": "d4d6e604",
   "metadata": {},
   "outputs": [
    {
     "name": "stdout",
     "output_type": "stream",
     "text": [
      "keyspace name :  system_auth\n",
      "replication Details :  {'class': 'org.apache.cassandra.locator.SimpleStrategy', 'replication_factor': '1'}\n",
      "keyspace name :  system_schema\n",
      "replication Details :  {'class': 'org.apache.cassandra.locator.LocalStrategy'}\n",
      "keyspace name :  system_distributed\n",
      "replication Details :  {'class': 'org.apache.cassandra.locator.SimpleStrategy', 'replication_factor': '3'}\n",
      "keyspace name :  system\n",
      "replication Details :  {'class': 'org.apache.cassandra.locator.LocalStrategy'}\n",
      "keyspace name :  tp\n",
      "replication Details :  {'class': 'org.apache.cassandra.locator.SimpleStrategy', 'replication_factor': '3'}\n",
      "keyspace name :  system_traces\n",
      "replication Details :  {'class': 'org.apache.cassandra.locator.SimpleStrategy', 'replication_factor': '2'}\n"
     ]
    }
   ],
   "source": [
    "# create keyspaces\n",
    "session.execute(\"CREATE KEYSPACE IF NOT EXISTS tp WITH replication = {'class':'SimpleStrategy', 'replication_factor':1}\").one()\n",
    "rs=session.execute(\"select * from system_schema.keyspaces\")\n",
    "for row in rs.all():\n",
    "    print(\"keyspace name : \", row[0])\n",
    "    print(\"replication Details : \",row[2])"
   ]
  },
  {
   "cell_type": "code",
   "execution_count": 4,
   "id": "fef6c8e9",
   "metadata": {},
   "outputs": [
    {
     "name": "stdout",
     "output_type": "stream",
     "text": [
      "keyspace name :  system_auth\n",
      "replication Details :  {'class': 'org.apache.cassandra.locator.SimpleStrategy', 'replication_factor': '1'}\n",
      "keyspace name :  system_schema\n",
      "replication Details :  {'class': 'org.apache.cassandra.locator.LocalStrategy'}\n",
      "keyspace name :  system_distributed\n",
      "replication Details :  {'class': 'org.apache.cassandra.locator.SimpleStrategy', 'replication_factor': '3'}\n",
      "keyspace name :  system\n",
      "replication Details :  {'class': 'org.apache.cassandra.locator.LocalStrategy'}\n",
      "keyspace name :  tp\n",
      "replication Details :  {'class': 'org.apache.cassandra.locator.SimpleStrategy', 'replication_factor': '3'}\n",
      "keyspace name :  system_traces\n",
      "replication Details :  {'class': 'org.apache.cassandra.locator.SimpleStrategy', 'replication_factor': '2'}\n"
     ]
    }
   ],
   "source": [
    "session.execute(\"ALTER KEYSPACE tp WITH replication = {'class':'SimpleStrategy', 'replication_factor':3}\")\n",
    "rs=session.execute(\"select * from system_schema.keyspaces\")\n",
    "for row in rs.all():\n",
    "    print(\"keyspace name : \", row[0])\n",
    "    print(\"replication Details : \",row[2])"
   ]
  },
  {
   "cell_type": "code",
   "execution_count": null,
   "id": "ef3e2680",
   "metadata": {},
   "outputs": [],
   "source": [
    "session.execute(\"DROP KEYSPACE tp\")"
   ]
  },
  {
   "cell_type": "code",
   "execution_count": 7,
   "id": "8c042f2d",
   "metadata": {},
   "outputs": [
    {
     "data": {
      "text/plain": [
       "<cassandra.cluster.ResultSet at 0x1f3a6ea73d0>"
      ]
     },
     "execution_count": 7,
     "metadata": {},
     "output_type": "execute_result"
    }
   ],
   "source": [
    "# Create table\n",
    "session.execute(\"use tp\")\n",
    "session.execute(\"CREATE TABLE student(student_id int PRIMARY KEY,student_name text,student_city text,student_fee varint,student_phone varint)\")"
   ]
  },
  {
   "cell_type": "code",
   "execution_count": 8,
   "id": "0e291c9f",
   "metadata": {},
   "outputs": [
    {
     "data": {
      "text/plain": [
       "<cassandra.cluster.ResultSet at 0x1f3a8e99940>"
      ]
     },
     "execution_count": 8,
     "metadata": {},
     "output_type": "execute_result"
    }
   ],
   "source": [
    "session.execute(\"ALTER table student add student_email text\")"
   ]
  },
  {
   "cell_type": "code",
   "execution_count": 9,
   "id": "0351a79b",
   "metadata": {},
   "outputs": [
    {
     "data": {
      "text/plain": [
       "<cassandra.cluster.ResultSet at 0x1f3a6ebf4c0>"
      ]
     },
     "execution_count": 9,
     "metadata": {},
     "output_type": "execute_result"
    }
   ],
   "source": [
    "session.execute(\"ALTER table student drop student_email\")"
   ]
  },
  {
   "cell_type": "code",
   "execution_count": 11,
   "id": "a85b0897",
   "metadata": {},
   "outputs": [
    {
     "data": {
      "text/plain": [
       "<cassandra.cluster.ResultSet at 0x1f3a6ed1250>"
      ]
     },
     "execution_count": 11,
     "metadata": {},
     "output_type": "execute_result"
    }
   ],
   "source": [
    "session.execute(\"ALTER TABLE student DROP (student_fee, student_phone)\")"
   ]
  },
  {
   "cell_type": "code",
   "execution_count": 12,
   "id": "88c0c419",
   "metadata": {},
   "outputs": [
    {
     "data": {
      "text/plain": [
       "<cassandra.cluster.ResultSet at 0x1f3a8dbec10>"
      ]
     },
     "execution_count": 12,
     "metadata": {},
     "output_type": "execute_result"
    }
   ],
   "source": [
    "session.execute(\"drop table student\")"
   ]
  },
  {
   "cell_type": "code",
   "execution_count": 14,
   "id": "f4f98e8d",
   "metadata": {},
   "outputs": [
    {
     "ename": "SyntaxException",
     "evalue": "<Error from server: code=2000 [Syntax error in CQL query] message=\"line 1:0 no viable alternative at input 'DESCRIBE' ([DESCRIBE]...)\">",
     "output_type": "error",
     "traceback": [
      "\u001b[1;31m---------------------------------------------------------------------------\u001b[0m",
      "\u001b[1;31mSyntaxException\u001b[0m                           Traceback (most recent call last)",
      "\u001b[1;32m<ipython-input-14-ca69ccf994ee>\u001b[0m in \u001b[0;36m<module>\u001b[1;34m\u001b[0m\n\u001b[1;32m----> 1\u001b[1;33m \u001b[0msession\u001b[0m\u001b[1;33m.\u001b[0m\u001b[0mexecute\u001b[0m\u001b[1;33m(\u001b[0m\u001b[1;34m\"DESCRIBE COLUMNFAMILIES\"\u001b[0m\u001b[1;33m)\u001b[0m\u001b[1;33m\u001b[0m\u001b[1;33m\u001b[0m\u001b[0m\n\u001b[0m",
      "\u001b[1;32m~\\Anaconda3\\lib\\site-packages\\cassandra\\cluster.cp38-win_amd64.pyd\u001b[0m in \u001b[0;36mcassandra.cluster.Session.execute\u001b[1;34m()\u001b[0m\n",
      "\u001b[1;32m~\\Anaconda3\\lib\\site-packages\\cassandra\\cluster.cp38-win_amd64.pyd\u001b[0m in \u001b[0;36mcassandra.cluster.ResponseFuture.result\u001b[1;34m()\u001b[0m\n",
      "\u001b[1;31mSyntaxException\u001b[0m: <Error from server: code=2000 [Syntax error in CQL query] message=\"line 1:0 no viable alternative at input 'DESCRIBE' ([DESCRIBE]...)\">"
     ]
    }
   ],
   "source": [
    "session.execute(\"DESCRIBE COLUMNFAMILIES\")"
   ]
  },
  {
   "cell_type": "code",
   "execution_count": 16,
   "id": "0a148834",
   "metadata": {},
   "outputs": [
    {
     "data": {
      "text/plain": [
       "<cassandra.cluster.ResultSet at 0x1f3a8f06c70>"
      ]
     },
     "execution_count": 16,
     "metadata": {},
     "output_type": "execute_result"
    }
   ],
   "source": [
    "session.execute(\"CREATE TABLE student(student_id int PRIMARY KEY,student_fees varint,student_name text)\")"
   ]
  },
  {
   "cell_type": "code",
   "execution_count": 17,
   "id": "c48270bb",
   "metadata": {},
   "outputs": [
    {
     "data": {
      "text/plain": [
       "<cassandra.cluster.ResultSet at 0x1f3a8f2c460>"
      ]
     },
     "execution_count": 17,
     "metadata": {},
     "output_type": "execute_result"
    }
   ],
   "source": [
    "session.execute(\"INSERT INTO student (student_id, student_fees, student_name) VALUES(1,5000, 'Ajeet')\")\n",
    "session.execute(\"INSERT INTO student (student_id, student_fees, student_name) VALUES(2,3000, 'Kanchan')\")\n",
    "session.execute(\"INSERT INTO student (student_id, student_fees, student_name) VALUES(3, 2000, 'Shivani')\")\n",
    "session.execute(\"INSERT INTO student (student_id, student_fees, student_name) VALUES(4, 2000, 'Manidhar')\")"
   ]
  },
  {
   "cell_type": "code",
   "execution_count": 21,
   "id": "22400a60",
   "metadata": {},
   "outputs": [],
   "source": [
    "rs = session.execute(\"select * from student\")\n",
    "rows=pd.DataFrame(rs.all(),columns=['student_id','student_fees','student_name'])"
   ]
  },
  {
   "cell_type": "code",
   "execution_count": 22,
   "id": "a83dac31",
   "metadata": {},
   "outputs": [
    {
     "data": {
      "text/html": [
       "<div>\n",
       "<style scoped>\n",
       "    .dataframe tbody tr th:only-of-type {\n",
       "        vertical-align: middle;\n",
       "    }\n",
       "\n",
       "    .dataframe tbody tr th {\n",
       "        vertical-align: top;\n",
       "    }\n",
       "\n",
       "    .dataframe thead th {\n",
       "        text-align: right;\n",
       "    }\n",
       "</style>\n",
       "<table border=\"1\" class=\"dataframe\">\n",
       "  <thead>\n",
       "    <tr style=\"text-align: right;\">\n",
       "      <th></th>\n",
       "      <th>student_id</th>\n",
       "      <th>student_fees</th>\n",
       "      <th>student_name</th>\n",
       "    </tr>\n",
       "  </thead>\n",
       "  <tbody>\n",
       "    <tr>\n",
       "      <th>0</th>\n",
       "      <td>1</td>\n",
       "      <td>5000</td>\n",
       "      <td>Ajeet</td>\n",
       "    </tr>\n",
       "    <tr>\n",
       "      <th>1</th>\n",
       "      <td>2</td>\n",
       "      <td>3000</td>\n",
       "      <td>Kanchan</td>\n",
       "    </tr>\n",
       "    <tr>\n",
       "      <th>2</th>\n",
       "      <td>3</td>\n",
       "      <td>2000</td>\n",
       "      <td>Shivani</td>\n",
       "    </tr>\n",
       "  </tbody>\n",
       "</table>\n",
       "</div>"
      ],
      "text/plain": [
       "   student_id  student_fees student_name\n",
       "0           1          5000        Ajeet\n",
       "1           2          3000      Kanchan\n",
       "2           3          2000      Shivani"
      ]
     },
     "execution_count": 22,
     "metadata": {},
     "output_type": "execute_result"
    }
   ],
   "source": [
    "rows.head()"
   ]
  },
  {
   "cell_type": "code",
   "execution_count": 23,
   "id": "b22f161e",
   "metadata": {},
   "outputs": [
    {
     "data": {
      "text/html": [
       "<div>\n",
       "<style scoped>\n",
       "    .dataframe tbody tr th:only-of-type {\n",
       "        vertical-align: middle;\n",
       "    }\n",
       "\n",
       "    .dataframe tbody tr th {\n",
       "        vertical-align: top;\n",
       "    }\n",
       "\n",
       "    .dataframe thead th {\n",
       "        text-align: right;\n",
       "    }\n",
       "</style>\n",
       "<table border=\"1\" class=\"dataframe\">\n",
       "  <thead>\n",
       "    <tr style=\"text-align: right;\">\n",
       "      <th></th>\n",
       "      <th>student_id</th>\n",
       "      <th>student_fees</th>\n",
       "      <th>student_name</th>\n",
       "    </tr>\n",
       "  </thead>\n",
       "  <tbody>\n",
       "    <tr>\n",
       "      <th>0</th>\n",
       "      <td>2</td>\n",
       "      <td>10000</td>\n",
       "      <td>Rahul</td>\n",
       "    </tr>\n",
       "  </tbody>\n",
       "</table>\n",
       "</div>"
      ],
      "text/plain": [
       "   student_id  student_fees student_name\n",
       "0           2         10000        Rahul"
      ]
     },
     "execution_count": 23,
     "metadata": {},
     "output_type": "execute_result"
    }
   ],
   "source": [
    "session.execute(\"UPDATE student SET student_fees=10000,student_name='Rahul' WHERE student_id=2\")\n",
    "rs = session.execute(\"select * from student where student_id=2\")\n",
    "rows=pd.DataFrame(rs.all(),columns=['student_id','student_fees','student_name'])\n",
    "rows.head()"
   ]
  },
  {
   "cell_type": "code",
   "execution_count": 25,
   "id": "24da8b4b",
   "metadata": {},
   "outputs": [],
   "source": [
    "session.execute(\"delete from student where student_id=4\")\n",
    "rs=session.execute(\"select * from student\")\n",
    "rows=pd.DataFrame(rs.all(),columns=['student_id','student_fees','student_name'])\n",
    "rows.head()"
   ]
  },
  {
   "cell_type": "markdown",
   "id": "2211f83d",
   "metadata": {},
   "source": [
    "# Delete sepecific column in table"
   ]
  },
  {
   "cell_type": "code",
   "execution_count": 27,
   "id": "b64e73b1",
   "metadata": {},
   "outputs": [
    {
     "data": {
      "text/html": [
       "<div>\n",
       "<style scoped>\n",
       "    .dataframe tbody tr th:only-of-type {\n",
       "        vertical-align: middle;\n",
       "    }\n",
       "\n",
       "    .dataframe tbody tr th {\n",
       "        vertical-align: top;\n",
       "    }\n",
       "\n",
       "    .dataframe thead th {\n",
       "        text-align: right;\n",
       "    }\n",
       "</style>\n",
       "<table border=\"1\" class=\"dataframe\">\n",
       "  <thead>\n",
       "    <tr style=\"text-align: right;\">\n",
       "      <th></th>\n",
       "      <th>student_id</th>\n",
       "      <th>student_fees</th>\n",
       "      <th>student_name</th>\n",
       "    </tr>\n",
       "  </thead>\n",
       "  <tbody>\n",
       "    <tr>\n",
       "      <th>0</th>\n",
       "      <td>1</td>\n",
       "      <td>5000.0</td>\n",
       "      <td>Ajeet</td>\n",
       "    </tr>\n",
       "    <tr>\n",
       "      <th>1</th>\n",
       "      <td>2</td>\n",
       "      <td>10000.0</td>\n",
       "      <td>Rahul</td>\n",
       "    </tr>\n",
       "    <tr>\n",
       "      <th>2</th>\n",
       "      <td>3</td>\n",
       "      <td>NaN</td>\n",
       "      <td>Shivani</td>\n",
       "    </tr>\n",
       "  </tbody>\n",
       "</table>\n",
       "</div>"
      ],
      "text/plain": [
       "   student_id  student_fees student_name\n",
       "0           1        5000.0        Ajeet\n",
       "1           2       10000.0        Rahul\n",
       "2           3           NaN      Shivani"
      ]
     },
     "execution_count": 27,
     "metadata": {},
     "output_type": "execute_result"
    }
   ],
   "source": [
    "session.execute(\"delete student_fees from student where student_id=3\")\n",
    "rs=session.execute(\"select * from student\")\n",
    "rows=pd.DataFrame(rs.all(),columns=['student_id','student_fees','student_name'])\n",
    "rows.head()"
   ]
  },
  {
   "cell_type": "markdown",
   "id": "0df257f8",
   "metadata": {},
   "source": [
    "# Set Collection"
   ]
  },
  {
   "cell_type": "code",
   "execution_count": 28,
   "id": "127d7899",
   "metadata": {},
   "outputs": [
    {
     "data": {
      "text/plain": [
       "<cassandra.cluster.ResultSet at 0x1f3a8e99c70>"
      ]
     },
     "execution_count": 28,
     "metadata": {},
     "output_type": "execute_result"
    }
   ],
   "source": [
    "session.execute(\"Create table employee(id int,Name text,Email set<text>,Primary key(id))\")"
   ]
  },
  {
   "cell_type": "code",
   "execution_count": 29,
   "id": "ab0e463d",
   "metadata": {},
   "outputs": [
    {
     "data": {
      "text/html": [
       "<div>\n",
       "<style scoped>\n",
       "    .dataframe tbody tr th:only-of-type {\n",
       "        vertical-align: middle;\n",
       "    }\n",
       "\n",
       "    .dataframe tbody tr th {\n",
       "        vertical-align: top;\n",
       "    }\n",
       "\n",
       "    .dataframe thead th {\n",
       "        text-align: right;\n",
       "    }\n",
       "</style>\n",
       "<table border=\"1\" class=\"dataframe\">\n",
       "  <thead>\n",
       "    <tr style=\"text-align: right;\">\n",
       "      <th></th>\n",
       "      <th>id</th>\n",
       "      <th>email</th>\n",
       "      <th>name</th>\n",
       "    </tr>\n",
       "  </thead>\n",
       "  <tbody>\n",
       "    <tr>\n",
       "      <th>0</th>\n",
       "      <td>1</td>\n",
       "      <td>(ajeetraj4u@gmail.com)</td>\n",
       "      <td>Ajeet</td>\n",
       "    </tr>\n",
       "    <tr>\n",
       "      <th>1</th>\n",
       "      <td>2</td>\n",
       "      <td>(kanchan@gmail.com)</td>\n",
       "      <td>Kanchan</td>\n",
       "    </tr>\n",
       "    <tr>\n",
       "      <th>2</th>\n",
       "      <td>3</td>\n",
       "      <td>(kunwar4u@gmail.com)</td>\n",
       "      <td>Kunwar</td>\n",
       "    </tr>\n",
       "  </tbody>\n",
       "</table>\n",
       "</div>"
      ],
      "text/plain": [
       "   id                   email     name\n",
       "0   1  (ajeetraj4u@gmail.com)    Ajeet\n",
       "1   2     (kanchan@gmail.com)  Kanchan\n",
       "2   3    (kunwar4u@gmail.com)   Kunwar"
      ]
     },
     "execution_count": 29,
     "metadata": {},
     "output_type": "execute_result"
    }
   ],
   "source": [
    "session.execute(\"INSERT INTO employee (id, email, name) VALUES(1, {'ajeetraj4u@gmail.com'}, 'Ajeet')\")\n",
    "session.execute(\"INSERT INTO employee (id, email, name) VALUES(2,{'kanchan@gmail.com'}, 'Kanchan')\")\n",
    "session.execute(\"INSERT INTO employee (id, email, name) VALUES(3, {'kunwar4u@gmail.com'}, 'Kunwar')\")\n",
    "rs=session.execute(\"select * from employee\")\n",
    "rows=pd.DataFrame(rs.all(),columns=['id','email','name'])\n",
    "rows.head()"
   ]
  },
  {
   "cell_type": "code",
   "execution_count": 30,
   "id": "01e8a4c8",
   "metadata": {},
   "outputs": [
    {
     "data": {
      "text/plain": [
       "<cassandra.cluster.ResultSet at 0x1f3a9ce29d0>"
      ]
     },
     "execution_count": 30,
     "metadata": {},
     "output_type": "execute_result"
    }
   ],
   "source": [
    "session.execute(\"alter table employee add department list<text>\")"
   ]
  },
  {
   "cell_type": "code",
   "execution_count": 33,
   "id": "684a9958",
   "metadata": {},
   "outputs": [
    {
     "data": {
      "text/plain": [
       "<cassandra.cluster.ResultSet at 0x1f3a9cb3b80>"
      ]
     },
     "execution_count": 33,
     "metadata": {},
     "output_type": "execute_result"
    }
   ],
   "source": [
    "session.execute(\"insert into employee (id,email,name,department) values (4,{'manidhar@gmail.com'},'Manidhar',['IT','Development']) \")"
   ]
  },
  {
   "cell_type": "code",
   "execution_count": 36,
   "id": "32fefcf5",
   "metadata": {},
   "outputs": [
    {
     "data": {
      "text/html": [
       "<div>\n",
       "<style scoped>\n",
       "    .dataframe tbody tr th:only-of-type {\n",
       "        vertical-align: middle;\n",
       "    }\n",
       "\n",
       "    .dataframe tbody tr th {\n",
       "        vertical-align: top;\n",
       "    }\n",
       "\n",
       "    .dataframe thead th {\n",
       "        text-align: right;\n",
       "    }\n",
       "</style>\n",
       "<table border=\"1\" class=\"dataframe\">\n",
       "  <thead>\n",
       "    <tr style=\"text-align: right;\">\n",
       "      <th></th>\n",
       "      <th>id</th>\n",
       "      <th>department</th>\n",
       "      <th>email</th>\n",
       "      <th>name</th>\n",
       "    </tr>\n",
       "  </thead>\n",
       "  <tbody>\n",
       "    <tr>\n",
       "      <th>0</th>\n",
       "      <td>1</td>\n",
       "      <td>None</td>\n",
       "      <td>(ajeetraj4u@gmail.com)</td>\n",
       "      <td>Ajeet</td>\n",
       "    </tr>\n",
       "    <tr>\n",
       "      <th>1</th>\n",
       "      <td>2</td>\n",
       "      <td>None</td>\n",
       "      <td>(kanchan@gmail.com)</td>\n",
       "      <td>Kanchan</td>\n",
       "    </tr>\n",
       "    <tr>\n",
       "      <th>2</th>\n",
       "      <td>4</td>\n",
       "      <td>[IT, Development]</td>\n",
       "      <td>(manidhar@gmail.com)</td>\n",
       "      <td>Manidhar</td>\n",
       "    </tr>\n",
       "    <tr>\n",
       "      <th>3</th>\n",
       "      <td>3</td>\n",
       "      <td>None</td>\n",
       "      <td>(kunwar4u@gmail.com)</td>\n",
       "      <td>Kunwar</td>\n",
       "    </tr>\n",
       "  </tbody>\n",
       "</table>\n",
       "</div>"
      ],
      "text/plain": [
       "   id         department                   email      name\n",
       "0   1               None  (ajeetraj4u@gmail.com)     Ajeet\n",
       "1   2               None     (kanchan@gmail.com)   Kanchan\n",
       "2   4  [IT, Development]    (manidhar@gmail.com)  Manidhar\n",
       "3   3               None    (kunwar4u@gmail.com)    Kunwar"
      ]
     },
     "execution_count": 36,
     "metadata": {},
     "output_type": "execute_result"
    }
   ],
   "source": [
    "rs=session.execute(\"select * from employee\")\n",
    "rows=pd.DataFrame(rs.all())\n",
    "rows.head()"
   ]
  },
  {
   "cell_type": "code",
   "execution_count": null,
   "id": "5fff6303",
   "metadata": {},
   "outputs": [],
   "source": []
  }
 ],
 "metadata": {
  "kernelspec": {
   "display_name": "Python 3",
   "language": "python",
   "name": "python3"
  },
  "language_info": {
   "codemirror_mode": {
    "name": "ipython",
    "version": 3
   },
   "file_extension": ".py",
   "mimetype": "text/x-python",
   "name": "python",
   "nbconvert_exporter": "python",
   "pygments_lexer": "ipython3",
   "version": "3.8.5"
  }
 },
 "nbformat": 4,
 "nbformat_minor": 5
}
