{
 "cells": [
  {
   "cell_type": "code",
   "execution_count": null,
   "id": "9feac983",
   "metadata": {},
   "outputs": [],
   "source": [
    "import pandas as pd\n",
    "from cassandra.cluster import Cluster\n",
    "cluster = Cluster()\n",
    "session = cluster.connect()"
   ]
  },
  {
   "cell_type": "code",
   "execution_count": null,
   "id": "e20cf663",
   "metadata": {},
   "outputs": [],
   "source": [
    "# display all keyspaces\n",
    "rs=session.execute(\"select * from system_schema.keyspaces\")\n",
    "for row in rs.all():\n",
    "    print(\"keyspace name : \", row[0])\n",
    "    print(\"replication Details : \",row[2])"
   ]
  },
  {
   "cell_type": "code",
   "execution_count": null,
   "id": "d4d6e604",
   "metadata": {},
   "outputs": [],
   "source": [
    "# create keyspaces\n",
    "session.execute(\"CREATE KEYSPACE IF NOT EXISTS tp WITH replication = {'class':'SimpleStrategy', 'replication_factor':1}\").one()\n",
    "rs=session.execute(\"select * from system_schema.keyspaces\")\n",
    "for row in rs.all():\n",
    "    print(\"keyspace name : \", row[0])\n",
    "    print(\"replication Details : \",row[2])"
   ]
  },
  {
   "cell_type": "code",
   "execution_count": null,
   "id": "fef6c8e9",
   "metadata": {},
   "outputs": [],
   "source": [
    "session.execute(\"ALTER KEYSPACE tp WITH replication = {'class':'SimpleStrategy', 'replication_factor':3}\")\n",
    "rs=session.execute(\"select * from system_schema.keyspaces\")\n",
    "for row in rs.all():\n",
    "    print(\"keyspace name : \", row[0])\n",
    "    print(\"replication Details : \",row[2])"
   ]
  },
  {
   "cell_type": "code",
   "execution_count": null,
   "id": "ef3e2680",
   "metadata": {},
   "outputs": [],
   "source": [
    "session.execute(\"DROP KEYSPACE tp\")"
   ]
  },
  {
   "cell_type": "code",
   "execution_count": null,
   "id": "8c042f2d",
   "metadata": {},
   "outputs": [],
   "source": [
    "# Create keyspace and table\n",
    "session.execute(\"CREATE KEYSPACE IF NOT EXISTS tp WITH replication = {'class':'SimpleStrategy', 'replication_factor':1}\").one()\n",
    "session.execute(\"use tp\")\n",
    "session.execute(\"CREATE TABLE student(student_id int PRIMARY KEY,student_name text,student_city text,student_fee varint,student_phone varint)\")"
   ]
  },
  {
   "cell_type": "code",
   "execution_count": null,
   "id": "4fc13154",
   "metadata": {},
   "outputs": [],
   "source": [
    "session.execute(\"ALTER table student add student_email text\")"
   ]
  },
  {
   "cell_type": "code",
   "execution_count": null,
   "id": "bea2312f",
   "metadata": {},
   "outputs": [],
   "source": [
    "session.execute(\"ALTER table student drop student_email\")"
   ]
  },
  {
   "cell_type": "code",
   "execution_count": null,
   "id": "834d325c",
   "metadata": {},
   "outputs": [],
   "source": [
    "session.execute(\"ALTER TABLE student DROP (student_fee, student_phone)\")"
   ]
  },
  {
   "cell_type": "code",
   "execution_count": null,
   "id": "1b2ecf50",
   "metadata": {},
   "outputs": [],
   "source": [
    "session.execute(\"drop table student\")"
   ]
  },
  {
   "cell_type": "code",
   "execution_count": null,
   "id": "880423e1",
   "metadata": {},
   "outputs": [],
   "source": [
    "session.execute(\"DESCRIBE COLUMNFAMILIES\")"
   ]
  },
  {
   "cell_type": "code",
   "execution_count": null,
   "id": "5c5b0ed5",
   "metadata": {},
   "outputs": [],
   "source": [
    "session.execute(\"CREATE TABLE student(student_id int PRIMARY KEY,student_fees varint,student_name text)\")"
   ]
  },
  {
   "cell_type": "code",
   "execution_count": null,
   "id": "e86d4dd1",
   "metadata": {},
   "outputs": [],
   "source": [
    "session.execute(\"INSERT INTO student (student_id, student_fees, student_name) VALUES(1,5000, 'Ajeet')\")\n",
    "session.execute(\"INSERT INTO student (student_id, student_fees, student_name) VALUES(2,3000, 'Kanchan')\")\n",
    "session.execute(\"INSERT INTO student (student_id, student_fees, student_name) VALUES(3, 2000, 'Shivani')\")\n",
    "session.execute(\"INSERT INTO student (student_id, student_fees, student_name) VALUES(4, 2000, 'Manidhar')\")"
   ]
  },
  {
   "cell_type": "code",
   "execution_count": null,
   "id": "e76e609d",
   "metadata": {},
   "outputs": [],
   "source": [
    "rs = session.execute(\"select * from student\")\n",
    "rows=pd.DataFrame(rs.all(),columns=['student_id','student_fees','student_name'])\n",
    "rows.head()"
   ]
  },
  {
   "cell_type": "code",
   "execution_count": null,
   "id": "7d07bf9d",
   "metadata": {},
   "outputs": [],
   "source": [
    "session.execute(\"UPDATE student SET student_fees=10000,student_name='Rahul' WHERE student_id=2\")\n",
    "rs = session.execute(\"select * from student where student_id=2\")\n",
    "rows=pd.DataFrame(rs.all(),columns=['student_id','student_fees','student_name'])\n",
    "rows.head()"
   ]
  },
  {
   "cell_type": "code",
   "execution_count": null,
   "id": "ed3136a5",
   "metadata": {},
   "outputs": [],
   "source": [
    "session.execute(\"delete from student where student_id=4\")\n",
    "rs=session.execute(\"select * from student\")\n",
    "rows=pd.DataFrame(rs.all(),columns=['student_id','student_fees','student_name'])\n",
    "rows.head()"
   ]
  },
  {
   "cell_type": "markdown",
   "id": "a2607155",
   "metadata": {},
   "source": [
    "# Delete sepecific column date for specific user in table"
   ]
  },
  {
   "cell_type": "code",
   "execution_count": null,
   "id": "627e938e",
   "metadata": {},
   "outputs": [],
   "source": [
    "session.execute(\"delete student_fees from student where student_id=3\")\n",
    "rs=session.execute(\"select * from student\")\n",
    "rows=pd.DataFrame(rs.all(),columns=['student_id','student_fees','student_name'])\n",
    "rows.head()"
   ]
  },
  {
   "cell_type": "markdown",
   "id": "a5a27a86",
   "metadata": {},
   "source": [
    "# Set Collection"
   ]
  },
  {
   "cell_type": "code",
   "execution_count": null,
   "id": "4d68a52c",
   "metadata": {},
   "outputs": [],
   "source": [
    "session.execute(\"Create table employee(id int,Name text,Email set<text>,Primary key(id))\")"
   ]
  },
  {
   "cell_type": "code",
   "execution_count": null,
   "id": "695fb475",
   "metadata": {},
   "outputs": [],
   "source": [
    "session.execute(\"INSERT INTO employee (id, email, name) VALUES(1, {'ajeetraj4u@gmail.com'}, 'Ajeet')\")\n",
    "session.execute(\"INSERT INTO employee (id, email, name) VALUES(2,{'kanchan@gmail.com'}, 'Kanchan')\")\n",
    "session.execute(\"INSERT INTO employee (id, email, name) VALUES(3, {'kunwar4u@gmail.com'}, 'Kunwar')\")\n",
    "rs=session.execute(\"select * from employee\")\n",
    "rows=pd.DataFrame(rs.all(),columns=['id','email','name'])\n",
    "rows.head()"
   ]
  },
  {
   "cell_type": "markdown",
   "id": "f3ffaa6f",
   "metadata": {},
   "source": [
    "# List Collection"
   ]
  },
  {
   "cell_type": "code",
   "execution_count": null,
   "id": "43ab03e9",
   "metadata": {},
   "outputs": [],
   "source": [
    "session.execute(\"alter table employee add department list<text>\")"
   ]
  },
  {
   "cell_type": "code",
   "execution_count": null,
   "id": "a8b70aed",
   "metadata": {},
   "outputs": [],
   "source": [
    "session.execute(\"insert into employee (id,email,name,department) values (4,{'manidhar@gmail.com'},'Manidhar',['IT','Development']) \")"
   ]
  },
  {
   "cell_type": "code",
   "execution_count": null,
   "id": "d4f20fb8",
   "metadata": {},
   "outputs": [],
   "source": [
    "rs=session.execute(\"select * from employee\")\n",
    "rows=pd.DataFrame(rs.all())\n",
    "rows.head()"
   ]
  },
  {
   "cell_type": "code",
   "execution_count": null,
   "id": "4ae5eefb",
   "metadata": {},
   "outputs": [],
   "source": []
  }
 ],
 "metadata": {
  "kernelspec": {
   "display_name": "Python 3",
   "language": "python",
   "name": "python3"
  },
  "language_info": {
   "codemirror_mode": {
    "name": "ipython",
    "version": 3
   },
   "file_extension": ".py",
   "mimetype": "text/x-python",
   "name": "python",
   "nbconvert_exporter": "python",
   "pygments_lexer": "ipython3",
   "version": "3.8.5"
  }
 },
 "nbformat": 4,
 "nbformat_minor": 5
}
